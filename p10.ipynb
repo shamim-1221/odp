{
 "cells": [
  {
   "cell_type": "code",
   "execution_count": null,
   "id": "71fb72fa",
   "metadata": {},
   "outputs": [],
   "source": [
    "\n",
    "#Aim: Write a program for object detection using pre-trained models to use object detection\n"
   ]
  },
  {
   "cell_type": "code",
   "execution_count": null,
   "id": "1cd836c2",
   "metadata": {},
   "outputs": [],
   "source": []
  },
  {
   "cell_type": "code",
   "execution_count": 4,
   "id": "b5a900e0",
   "metadata": {},
   "outputs": [
    {
     "name": "stdout",
     "output_type": "stream",
     "text": [
      "Object  1 :  birdhouse , Probability:  0.10978619\n",
      "Object  2 :  soccer_ball , Probability:  0.09997672\n"
     ]
    }
   ],
   "source": [
    "import numpy as np\n",
    "import tensorflow as tf\n",
    "from tensorflow.keras.applications.vgg16 import VGG16, preprocess_input,decode_predictions\n",
    "from tensorflow.keras.preprocessing.image import load_img, img_to_array\n",
    "\n",
    "# Load the VGG16 model with pre-trained weights\n",
    "model = VGG16()\n",
    "\n",
    "# Load the image to detect objects in\n",
    "image = load_img('objectdetectimage2.jpg', target_size=(224, 224))\n",
    "\n",
    "# Convert the image to a numpy array\n",
    "image = img_to_array(image)\n",
    "\n",
    "# Reshape the image data for VGG\n",
    "image = image.reshape((1, image.shape[0], image.shape[1], image.shape[2]))\n",
    "\n",
    "# Preprocess the image\n",
    "image = preprocess_input(image)\n",
    "\n",
    "# Make predictions on the image using the VGG model\n",
    "predictions = model.predict(image)\n",
    "\n",
    "# Decode the predictions\n",
    "decoded_predictions = decode_predictions(predictions, top=2)\n",
    "\n",
    "# Print the predictions with their probabilities\n",
    "for i, prediction in enumerate(decoded_predictions[0]):\n",
    "    print(\"Object \", i+1, \": \", prediction[1], \", Probability: \", prediction[2])"
   ]
  },
  {
   "cell_type": "code",
   "execution_count": null,
   "id": "e5bc6333",
   "metadata": {},
   "outputs": [],
   "source": []
  }
 ],
 "metadata": {
  "kernelspec": {
   "display_name": "Python 3 (ipykernel)",
   "language": "python",
   "name": "python3"
  },
  "language_info": {
   "codemirror_mode": {
    "name": "ipython",
    "version": 3
   },
   "file_extension": ".py",
   "mimetype": "text/x-python",
   "name": "python",
   "nbconvert_exporter": "python",
   "pygments_lexer": "ipython3",
   "version": "3.9.7"
  },
  "varInspector": {
   "cols": {
    "lenName": 16,
    "lenType": 16,
    "lenVar": 40
   },
   "kernels_config": {
    "python": {
     "delete_cmd_postfix": "",
     "delete_cmd_prefix": "del ",
     "library": "var_list.py",
     "varRefreshCmd": "print(var_dic_list())"
    },
    "r": {
     "delete_cmd_postfix": ") ",
     "delete_cmd_prefix": "rm(",
     "library": "var_list.r",
     "varRefreshCmd": "cat(var_dic_list()) "
    }
   },
   "types_to_exclude": [
    "module",
    "function",
    "builtin_function_or_method",
    "instance",
    "_Feature"
   ],
   "window_display": false
  }
 },
 "nbformat": 4,
 "nbformat_minor": 5
}
